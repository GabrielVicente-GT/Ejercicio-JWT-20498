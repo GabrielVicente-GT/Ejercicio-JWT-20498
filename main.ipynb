{
 "cells": [
  {
   "cell_type": "markdown",
   "metadata": {},
   "source": [
    "# Ejercicio JWT\n",
    "\n",
    "### Gabriel Alejandro Vicente Lorenzo 20498\n",
    "\n",
    "### Instrucciones\n",
    "\n",
    "Practicaremos el uso de JWT, para lo cual necesitan crear un programa que permita realizar lo siguiente:\n",
    "\n",
    "Generar un JWT Firmado:\n",
    "\n",
    "Utilizar una librería (del lenguaje a su elección) para generar un generar un JWT firmado.\n",
    "\n",
    "Deberán crear un payload con la información que deseen transmitir y firmar el JWT utilizando una clave privada.\n",
    "\n",
    "Verificar el JWT:\n",
    "\n",
    "Utilizar una librería (del lenguaje a su elección) para generar un verificar la firma del JWT utilizando la clave pública correspondiente.\n",
    "\n",
    "Deberán verificar la autenticidad e integridad del JWT y extraer la información del payload si la verificación es exitosa."
   ]
  },
  {
   "cell_type": "code",
   "execution_count": null,
   "metadata": {},
   "outputs": [],
   "source": []
  }
 ],
 "metadata": {
  "language_info": {
   "name": "python"
  }
 },
 "nbformat": 4,
 "nbformat_minor": 2
}
